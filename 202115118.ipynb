{
  "nbformat": 4,
  "nbformat_minor": 0,
  "metadata": {
    "colab": {
      "name": "202115118.ipynb",
      "provenance": [],
      "collapsed_sections": []
    },
    "kernelspec": {
      "name": "python3",
      "display_name": "Python 3"
    },
    "language_info": {
      "name": "python"
    }
  },
  "cells": [
    {
      "cell_type": "markdown",
      "metadata": {
        "id": "aHu42dcXzENk"
      },
      "source": [
        "## Chandan Charchit Sahoo\n",
        "### 202115118\n",
        "##### Mtech-AI "
      ]
    },
    {
      "cell_type": "code",
      "metadata": {
        "id": "ZV2znxJiqLsD"
      },
      "source": [
        "import numpy as np\n",
        "import pandas as pd"
      ],
      "execution_count": 1,
      "outputs": []
    },
    {
      "cell_type": "code",
      "metadata": {
        "id": "gEFM4qy8qdAa"
      },
      "source": [
        "data = [[2,3,1, '+'], [1,2,2, '+'], [2,2,2, '+'],[3,2,2, '+'], [5,3,1, '-'], [6,2,2, '-'], [7,3,1, '-'], [8,2,2, '-']]"
      ],
      "execution_count": 21,
      "outputs": []
    },
    {
      "cell_type": "code",
      "metadata": {
        "id": "LI80LtH0r50z"
      },
      "source": [
        "df=pd.DataFrame(data, columns=['x','y','z','Class label'])"
      ],
      "execution_count": 22,
      "outputs": []
    },
    {
      "cell_type": "code",
      "metadata": {
        "colab": {
          "base_uri": "https://localhost:8080/",
          "height": 294
        },
        "id": "thZlbbxMsQKW",
        "outputId": "c3441a65-16be-498a-b7e9-31c705addd0f"
      },
      "source": [
        "df"
      ],
      "execution_count": 23,
      "outputs": [
        {
          "output_type": "execute_result",
          "data": {
            "text/html": [
              "<div>\n",
              "<style scoped>\n",
              "    .dataframe tbody tr th:only-of-type {\n",
              "        vertical-align: middle;\n",
              "    }\n",
              "\n",
              "    .dataframe tbody tr th {\n",
              "        vertical-align: top;\n",
              "    }\n",
              "\n",
              "    .dataframe thead th {\n",
              "        text-align: right;\n",
              "    }\n",
              "</style>\n",
              "<table border=\"1\" class=\"dataframe\">\n",
              "  <thead>\n",
              "    <tr style=\"text-align: right;\">\n",
              "      <th></th>\n",
              "      <th>x</th>\n",
              "      <th>y</th>\n",
              "      <th>z</th>\n",
              "      <th>Class label</th>\n",
              "    </tr>\n",
              "  </thead>\n",
              "  <tbody>\n",
              "    <tr>\n",
              "      <th>0</th>\n",
              "      <td>2</td>\n",
              "      <td>3</td>\n",
              "      <td>1</td>\n",
              "      <td>+</td>\n",
              "    </tr>\n",
              "    <tr>\n",
              "      <th>1</th>\n",
              "      <td>1</td>\n",
              "      <td>2</td>\n",
              "      <td>2</td>\n",
              "      <td>+</td>\n",
              "    </tr>\n",
              "    <tr>\n",
              "      <th>2</th>\n",
              "      <td>2</td>\n",
              "      <td>2</td>\n",
              "      <td>2</td>\n",
              "      <td>+</td>\n",
              "    </tr>\n",
              "    <tr>\n",
              "      <th>3</th>\n",
              "      <td>3</td>\n",
              "      <td>2</td>\n",
              "      <td>2</td>\n",
              "      <td>+</td>\n",
              "    </tr>\n",
              "    <tr>\n",
              "      <th>4</th>\n",
              "      <td>5</td>\n",
              "      <td>3</td>\n",
              "      <td>1</td>\n",
              "      <td>-</td>\n",
              "    </tr>\n",
              "    <tr>\n",
              "      <th>5</th>\n",
              "      <td>6</td>\n",
              "      <td>2</td>\n",
              "      <td>2</td>\n",
              "      <td>-</td>\n",
              "    </tr>\n",
              "    <tr>\n",
              "      <th>6</th>\n",
              "      <td>7</td>\n",
              "      <td>3</td>\n",
              "      <td>1</td>\n",
              "      <td>-</td>\n",
              "    </tr>\n",
              "    <tr>\n",
              "      <th>7</th>\n",
              "      <td>8</td>\n",
              "      <td>2</td>\n",
              "      <td>2</td>\n",
              "      <td>-</td>\n",
              "    </tr>\n",
              "  </tbody>\n",
              "</table>\n",
              "</div>"
            ],
            "text/plain": [
              "   x  y  z Class label\n",
              "0  2  3  1           +\n",
              "1  1  2  2           +\n",
              "2  2  2  2           +\n",
              "3  3  2  2           +\n",
              "4  5  3  1           -\n",
              "5  6  2  2           -\n",
              "6  7  3  1           -\n",
              "7  8  2  2           -"
            ]
          },
          "metadata": {
            "tags": []
          },
          "execution_count": 23
        }
      ]
    },
    {
      "cell_type": "code",
      "metadata": {
        "id": "ThlwVB63sTSA"
      },
      "source": [
        "df['Class label'].replace(['+','-'],[1,0], inplace=True)"
      ],
      "execution_count": 24,
      "outputs": []
    },
    {
      "cell_type": "code",
      "metadata": {
        "colab": {
          "base_uri": "https://localhost:8080/",
          "height": 294
        },
        "id": "MhrooOA5sz9o",
        "outputId": "dcd8852b-64b0-4854-efe5-7e57b111308e"
      },
      "source": [
        "df"
      ],
      "execution_count": 25,
      "outputs": [
        {
          "output_type": "execute_result",
          "data": {
            "text/html": [
              "<div>\n",
              "<style scoped>\n",
              "    .dataframe tbody tr th:only-of-type {\n",
              "        vertical-align: middle;\n",
              "    }\n",
              "\n",
              "    .dataframe tbody tr th {\n",
              "        vertical-align: top;\n",
              "    }\n",
              "\n",
              "    .dataframe thead th {\n",
              "        text-align: right;\n",
              "    }\n",
              "</style>\n",
              "<table border=\"1\" class=\"dataframe\">\n",
              "  <thead>\n",
              "    <tr style=\"text-align: right;\">\n",
              "      <th></th>\n",
              "      <th>x</th>\n",
              "      <th>y</th>\n",
              "      <th>z</th>\n",
              "      <th>Class label</th>\n",
              "    </tr>\n",
              "  </thead>\n",
              "  <tbody>\n",
              "    <tr>\n",
              "      <th>0</th>\n",
              "      <td>2</td>\n",
              "      <td>3</td>\n",
              "      <td>1</td>\n",
              "      <td>1</td>\n",
              "    </tr>\n",
              "    <tr>\n",
              "      <th>1</th>\n",
              "      <td>1</td>\n",
              "      <td>2</td>\n",
              "      <td>2</td>\n",
              "      <td>1</td>\n",
              "    </tr>\n",
              "    <tr>\n",
              "      <th>2</th>\n",
              "      <td>2</td>\n",
              "      <td>2</td>\n",
              "      <td>2</td>\n",
              "      <td>1</td>\n",
              "    </tr>\n",
              "    <tr>\n",
              "      <th>3</th>\n",
              "      <td>3</td>\n",
              "      <td>2</td>\n",
              "      <td>2</td>\n",
              "      <td>1</td>\n",
              "    </tr>\n",
              "    <tr>\n",
              "      <th>4</th>\n",
              "      <td>5</td>\n",
              "      <td>3</td>\n",
              "      <td>1</td>\n",
              "      <td>0</td>\n",
              "    </tr>\n",
              "    <tr>\n",
              "      <th>5</th>\n",
              "      <td>6</td>\n",
              "      <td>2</td>\n",
              "      <td>2</td>\n",
              "      <td>0</td>\n",
              "    </tr>\n",
              "    <tr>\n",
              "      <th>6</th>\n",
              "      <td>7</td>\n",
              "      <td>3</td>\n",
              "      <td>1</td>\n",
              "      <td>0</td>\n",
              "    </tr>\n",
              "    <tr>\n",
              "      <th>7</th>\n",
              "      <td>8</td>\n",
              "      <td>2</td>\n",
              "      <td>2</td>\n",
              "      <td>0</td>\n",
              "    </tr>\n",
              "  </tbody>\n",
              "</table>\n",
              "</div>"
            ],
            "text/plain": [
              "   x  y  z  Class label\n",
              "0  2  3  1            1\n",
              "1  1  2  2            1\n",
              "2  2  2  2            1\n",
              "3  3  2  2            1\n",
              "4  5  3  1            0\n",
              "5  6  2  2            0\n",
              "6  7  3  1            0\n",
              "7  8  2  2            0"
            ]
          },
          "metadata": {
            "tags": []
          },
          "execution_count": 25
        }
      ]
    },
    {
      "cell_type": "code",
      "metadata": {
        "colab": {
          "base_uri": "https://localhost:8080/"
        },
        "id": "d8kedctivSh_",
        "outputId": "e6b4b3c7-da8c-4bae-bce4-c1373ce35e61"
      },
      "source": [
        "X=df.to_numpy()\n",
        "X"
      ],
      "execution_count": 26,
      "outputs": [
        {
          "output_type": "execute_result",
          "data": {
            "text/plain": [
              "array([[2, 3, 1, 1],\n",
              "       [1, 2, 2, 1],\n",
              "       [2, 2, 2, 1],\n",
              "       [3, 2, 2, 1],\n",
              "       [5, 3, 1, 0],\n",
              "       [6, 2, 2, 0],\n",
              "       [7, 3, 1, 0],\n",
              "       [8, 2, 2, 0]])"
            ]
          },
          "metadata": {
            "tags": []
          },
          "execution_count": 26
        }
      ]
    },
    {
      "cell_type": "code",
      "metadata": {
        "colab": {
          "base_uri": "https://localhost:8080/"
        },
        "id": "OSd0XFQCwI1W",
        "outputId": "e608e39e-3a9f-410f-eabc-89901fed6df1"
      },
      "source": [
        "x_ = X[:,:-1]\n",
        "y_ = X[:,-1]\n",
        "\n",
        "print(x_.shape,y_.shape)"
      ],
      "execution_count": 31,
      "outputs": [
        {
          "output_type": "stream",
          "text": [
            "(8, 3) (8,)\n"
          ],
          "name": "stdout"
        }
      ]
    },
    {
      "cell_type": "code",
      "metadata": {
        "id": "Z-XxKuJHvlQT"
      },
      "source": [
        "import tensorflow as tf\n",
        "from tensorflow.keras import layers\n",
        "from sklearn.preprocessing import MinMaxScaler\n",
        "import keras\n",
        "\n",
        "import matplotlib.pyplot as plt"
      ],
      "execution_count": 34,
      "outputs": []
    },
    {
      "cell_type": "code",
      "metadata": {
        "colab": {
          "base_uri": "https://localhost:8080/"
        },
        "id": "EY1sKw2Owe2s",
        "outputId": "5237d66d-6af4-43d9-e7a8-f20db805d755"
      },
      "source": [
        "scaler = MinMaxScaler()\n",
        "X_train = scaler.fit_transform(x_)\n",
        "\n",
        "print(X_train)"
      ],
      "execution_count": 32,
      "outputs": [
        {
          "output_type": "stream",
          "text": [
            "[[0.14285714 1.         0.        ]\n",
            " [0.         0.         1.        ]\n",
            " [0.14285714 0.         1.        ]\n",
            " [0.28571429 0.         1.        ]\n",
            " [0.57142857 1.         0.        ]\n",
            " [0.71428571 0.         1.        ]\n",
            " [0.85714286 1.         0.        ]\n",
            " [1.         0.         1.        ]]\n"
          ],
          "name": "stdout"
        }
      ]
    },
    {
      "cell_type": "code",
      "metadata": {
        "colab": {
          "base_uri": "https://localhost:8080/"
        },
        "id": "KzGTaKeRts--",
        "outputId": "436eae83-6366-404b-da5e-a89a469499f9"
      },
      "source": [
        "input_layer = layers.Input(shape=(3))\n",
        "x = layers.Dense(64, activation='relu')(input_layer)\n",
        "output_layer = layers.Dense(2, activation='sigmoid')(x)\n",
        "\n",
        "model = keras.Model(input_layer, output_layer)\n",
        "model.summary()"
      ],
      "execution_count": 35,
      "outputs": [
        {
          "output_type": "stream",
          "text": [
            "Model: \"model\"\n",
            "_________________________________________________________________\n",
            "Layer (type)                 Output Shape              Param #   \n",
            "=================================================================\n",
            "input_3 (InputLayer)         [(None, 3)]               0         \n",
            "_________________________________________________________________\n",
            "dense_4 (Dense)              (None, 64)                256       \n",
            "_________________________________________________________________\n",
            "dense_5 (Dense)              (None, 2)                 130       \n",
            "=================================================================\n",
            "Total params: 386\n",
            "Trainable params: 386\n",
            "Non-trainable params: 0\n",
            "_________________________________________________________________\n"
          ],
          "name": "stdout"
        }
      ]
    },
    {
      "cell_type": "code",
      "metadata": {
        "colab": {
          "base_uri": "https://localhost:8080/"
        },
        "id": "-a3Y7zN1xIGY",
        "outputId": "506b7500-f244-4f38-ff22-b17931164b93"
      },
      "source": [
        "model.compile(optimizer=\"adam\", loss=\"sparse_categorical_crossentropy\", metrics=[\"sparse_categorical_accuracy\"],)\n",
        " \n",
        "model_history = model.fit(X_train,y_, epochs= 25)"
      ],
      "execution_count": 36,
      "outputs": [
        {
          "output_type": "stream",
          "text": [
            "Epoch 1/25\n",
            "1/1 [==============================] - 1s 505ms/step - loss: 0.7538 - sparse_categorical_accuracy: 0.5000\n",
            "Epoch 2/25\n",
            "1/1 [==============================] - 0s 3ms/step - loss: 0.7488 - sparse_categorical_accuracy: 0.5000\n",
            "Epoch 3/25\n",
            "1/1 [==============================] - 0s 3ms/step - loss: 0.7438 - sparse_categorical_accuracy: 0.5000\n",
            "Epoch 4/25\n",
            "1/1 [==============================] - 0s 4ms/step - loss: 0.7388 - sparse_categorical_accuracy: 0.5000\n",
            "Epoch 5/25\n",
            "1/1 [==============================] - 0s 8ms/step - loss: 0.7339 - sparse_categorical_accuracy: 0.5000\n",
            "Epoch 6/25\n",
            "1/1 [==============================] - 0s 4ms/step - loss: 0.7291 - sparse_categorical_accuracy: 0.5000\n",
            "Epoch 7/25\n",
            "1/1 [==============================] - 0s 5ms/step - loss: 0.7243 - sparse_categorical_accuracy: 0.5000\n",
            "Epoch 8/25\n",
            "1/1 [==============================] - 0s 5ms/step - loss: 0.7195 - sparse_categorical_accuracy: 0.5000\n",
            "Epoch 9/25\n",
            "1/1 [==============================] - 0s 4ms/step - loss: 0.7148 - sparse_categorical_accuracy: 0.5000\n",
            "Epoch 10/25\n",
            "1/1 [==============================] - 0s 5ms/step - loss: 0.7101 - sparse_categorical_accuracy: 0.5000\n",
            "Epoch 11/25\n",
            "1/1 [==============================] - 0s 3ms/step - loss: 0.7056 - sparse_categorical_accuracy: 0.5000\n",
            "Epoch 12/25\n",
            "1/1 [==============================] - 0s 8ms/step - loss: 0.7011 - sparse_categorical_accuracy: 0.5000\n",
            "Epoch 13/25\n",
            "1/1 [==============================] - 0s 4ms/step - loss: 0.6967 - sparse_categorical_accuracy: 0.5000\n",
            "Epoch 14/25\n",
            "1/1 [==============================] - 0s 3ms/step - loss: 0.6923 - sparse_categorical_accuracy: 0.5000\n",
            "Epoch 15/25\n",
            "1/1 [==============================] - 0s 3ms/step - loss: 0.6879 - sparse_categorical_accuracy: 0.5000\n",
            "Epoch 16/25\n",
            "1/1 [==============================] - 0s 4ms/step - loss: 0.6836 - sparse_categorical_accuracy: 0.5000\n",
            "Epoch 17/25\n",
            "1/1 [==============================] - 0s 5ms/step - loss: 0.6793 - sparse_categorical_accuracy: 0.5000\n",
            "Epoch 18/25\n",
            "1/1 [==============================] - 0s 9ms/step - loss: 0.6751 - sparse_categorical_accuracy: 0.5000\n",
            "Epoch 19/25\n",
            "1/1 [==============================] - 0s 5ms/step - loss: 0.6709 - sparse_categorical_accuracy: 0.5000\n",
            "Epoch 20/25\n",
            "1/1 [==============================] - 0s 5ms/step - loss: 0.6668 - sparse_categorical_accuracy: 0.5000\n",
            "Epoch 21/25\n",
            "1/1 [==============================] - 0s 10ms/step - loss: 0.6627 - sparse_categorical_accuracy: 0.5000\n",
            "Epoch 22/25\n",
            "1/1 [==============================] - 0s 4ms/step - loss: 0.6587 - sparse_categorical_accuracy: 0.5000\n",
            "Epoch 23/25\n",
            "1/1 [==============================] - 0s 4ms/step - loss: 0.6548 - sparse_categorical_accuracy: 0.5000\n",
            "Epoch 24/25\n",
            "1/1 [==============================] - 0s 5ms/step - loss: 0.6509 - sparse_categorical_accuracy: 0.5000\n",
            "Epoch 25/25\n",
            "1/1 [==============================] - 0s 7ms/step - loss: 0.6472 - sparse_categorical_accuracy: 0.5000\n"
          ],
          "name": "stdout"
        }
      ]
    },
    {
      "cell_type": "code",
      "metadata": {
        "colab": {
          "base_uri": "https://localhost:8080/"
        },
        "id": "OKvyTtyLxYEO",
        "outputId": "0cb836e6-fe20-4106-ea8f-cc013eeeada0"
      },
      "source": [
        "Y_predict = np.argmax(model.predict(x_), axis=1)\n",
        "Y_predict"
      ],
      "execution_count": 40,
      "outputs": [
        {
          "output_type": "execute_result",
          "data": {
            "text/plain": [
              "array([1, 1, 1, 1, 0, 0, 0, 0])"
            ]
          },
          "metadata": {
            "tags": []
          },
          "execution_count": 40
        }
      ]
    },
    {
      "cell_type": "code",
      "metadata": {
        "colab": {
          "base_uri": "https://localhost:8080/",
          "height": 265
        },
        "id": "V9Xdo5xdyINi",
        "outputId": "2f0f205f-bffd-41eb-a8ad-ecb49dd59f51"
      },
      "source": [
        "plt.scatter(x_[:,0],y_, color = 'yellow')\n",
        "plt.scatter(x_[:,1],y_, color = 'yellow')\n",
        "plt.scatter(x_[:,2],y_, color = 'yellow')\n",
        "\n",
        "\n",
        "plt.scatter(x_[:,0],Y_predict, s = 100, marker = 'o',facecolors='none', edgecolors='r')\n",
        "plt.scatter(x_[:,1],Y_predict, s = 100, marker = 'o',facecolors='none', edgecolors='r')\n",
        "plt.scatter(x_[:,2],Y_predict, s = 100, marker = 'o',facecolors='none', edgecolors='r')\n",
        "\n",
        "plt.show()"
      ],
      "execution_count": 42,
      "outputs": [
        {
          "output_type": "display_data",
          "data": {
            "image/png": "[encoded data removed]",
            "text/plain": [
              "<Figure size 432x288 with 1 Axes>"
            ]
          },
          "metadata": {
            "tags": [],
            "needs_background": "light"
          }
        }
      ]
    }
  ]
}